{
 "cells": [
  {
   "cell_type": "code",
   "execution_count": 3,
   "id": "aa186c0f-7f71-4f37-bd26-5520414f34d2",
   "metadata": {},
   "outputs": [
    {
     "name": "stdout",
     "output_type": "stream",
     "text": [
      "Fitting 3 folds for each of 16 candidates, totalling 48 fits\n",
      "Best parameters found: {'bagging__n_estimators': 50, 'final_estimator__n_estimators': 50, 'hist_grad__max_iter': 200, 'rf__n_estimators': 100}\n",
      "Best weighted F1 score: 0.9810273038217424\n"
     ]
    }
   ],
   "source": [
    "# Import libraries\n",
    "import pandas as pd\n",
    "import numpy as np\n",
    "from sklearn.model_selection import GridSearchCV, KFold\n",
    "from sklearn.metrics import classification_report, accuracy_score, f1_score\n",
    "from imblearn.over_sampling import SMOTE\n",
    "from sklearn.ensemble import (\n",
    "    BaggingClassifier,\n",
    "    HistGradientBoostingClassifier,\n",
    "    RandomForestClassifier,\n",
    "    StackingClassifier\n",
    ")\n",
    "\n",
    "# Load the processed dataset\n",
    "df = pd.read_csv('../data/preprocessed/with_diabetes_status/dataset_with_diabetes_status.csv')\n",
    "\n",
    "# Drop the diabetes and hba1c columns\n",
    "df = df.drop('diabetes', axis=1)\n",
    "\n",
    "# Drop records where gender is 'Other'\n",
    "df = df[df['gender'] != 'Other']\n",
    "\n",
    "# One-hot encode categorical features\n",
    "df = pd.get_dummies(df, columns=['gender', 'smoking_history'], drop_first=False)\n",
    "\n",
    "# Define the order of categories for diabetes_status\n",
    "status_order = ['non diabetic', 'stress induced prediabetic', 'stress induced type 2 diabetic', 'prediabetic', 'diabetic']\n",
    "status_mapping = {status: i for i, status in enumerate(status_order)}\n",
    "df['diabetes_status'] = df['diabetes_status'].map(status_mapping)\n",
    "\n",
    "# Move the encoded 'diabetes_status' to the right\n",
    "cols = df.columns.tolist()\n",
    "cols.append(cols.pop(cols.index('diabetes_status')))\n",
    "df = df[cols]\n",
    "\n",
    "# Separate features and target\n",
    "X = df.drop(columns=['diabetes_status'])\n",
    "y = df['diabetes_status']\n",
    "\n",
    "# Initialize SMOTE to balance the classes\n",
    "smote = SMOTE(random_state=42)\n",
    "X_res, y_res = smote.fit_resample(X, y)\n",
    "\n",
    "# Define the base estimators and stacking classifier\n",
    "estimators = [\n",
    "    ('bagging', BaggingClassifier()),\n",
    "    ('hist_grad', HistGradientBoostingClassifier()),\n",
    "    ('rf', RandomForestClassifier())\n",
    "]\n",
    "\n",
    "stacking_clf = StackingClassifier(\n",
    "    estimators=estimators,\n",
    "    final_estimator=RandomForestClassifier()\n",
    ")\n",
    "\n",
    "# Set up the parameter grid for hyperparameter tuning.\n",
    "# The keys follow the format <estimator_name>__<parameter_name>\n",
    "param_grid = {\n",
    "    'bagging__n_estimators': [10, 50],\n",
    "    'hist_grad__max_iter': [100, 200],\n",
    "    'rf__n_estimators': [50, 100],\n",
    "    'final_estimator__n_estimators': [50, 100]\n",
    "}\n",
    "\n",
    "# Initialize GridSearchCV with 3-fold cross validation and f1 weighted scoring.\n",
    "# The verbose parameter is set to 3 to show progress.\n",
    "grid_search = GridSearchCV(\n",
    "    estimator=stacking_clf,\n",
    "    param_grid=param_grid,\n",
    "    cv=3,\n",
    "    scoring='f1_weighted',\n",
    "    verbose=3,\n",
    "    n_jobs=-1\n",
    ")\n",
    "\n",
    "# Fit the grid search\n",
    "grid_search.fit(X_res, y_res)\n",
    "\n",
    "# Output the best parameters and best F1 score found\n",
    "print(\"Best parameters found:\", grid_search.best_params_)\n",
    "print(\"Best weighted F1 score:\", grid_search.best_score_)"
   ]
  },
  {
   "cell_type": "code",
   "execution_count": 7,
   "id": "88c331d4-642d-4a30-9a9e-57e18ad6fd2d",
   "metadata": {},
   "outputs": [
    {
     "data": {
      "text/plain": [
       "['stacking_classifier_tuned.pkl']"
      ]
     },
     "execution_count": 7,
     "metadata": {},
     "output_type": "execute_result"
    }
   ],
   "source": [
    "import joblib\n",
    "\n",
    "joblib.dump(grid_search.best_estimator_, 'stacking_classifier_tuned.pkl')"
   ]
  },
  {
   "cell_type": "code",
   "execution_count": 13,
   "id": "1f17b4ea-5472-4822-9f41-35eea9589904",
   "metadata": {},
   "outputs": [
    {
     "name": "stdout",
     "output_type": "stream",
     "text": [
      "1.5.1\n"
     ]
    }
   ],
   "source": [
    "import sklearn\n",
    "print(sklearn.__version__)"
   ]
  },
  {
   "cell_type": "code",
   "execution_count": null,
   "id": "0769621c-035e-4f13-a005-be1968e06f02",
   "metadata": {},
   "outputs": [],
   "source": []
  }
 ],
 "metadata": {
  "kernelspec": {
   "display_name": "Python [conda env:base] *",
   "language": "python",
   "name": "conda-base-py"
  },
  "language_info": {
   "codemirror_mode": {
    "name": "ipython",
    "version": 3
   },
   "file_extension": ".py",
   "mimetype": "text/x-python",
   "name": "python",
   "nbconvert_exporter": "python",
   "pygments_lexer": "ipython3",
   "version": "3.12.7"
  }
 },
 "nbformat": 4,
 "nbformat_minor": 5
}
