{
 "cells": [
  {
   "cell_type": "code",
   "execution_count": 1,
   "id": "2a2078ae-3e45-4635-8cfd-71fe41000dca",
   "metadata": {},
   "outputs": [],
   "source": [
    "# Import libraries\n",
    "import pandas as pd\n",
    "from sklearn.preprocessing import LabelEncoder\n",
    "import numpy as np\n",
    "from sklearn.model_selection import KFold\n",
    "from sklearn.metrics import classification_report, accuracy_score, f1_score\n",
    "from imblearn.over_sampling import SMOTE\n",
    "from sklearn.neighbors import KNeighborsClassifier\n",
    "from sklearn.ensemble import RandomForestClassifier, StackingClassifier, GradientBoostingClassifier\n",
    "from sklearn.svm import SVC"
   ]
  },
  {
   "cell_type": "code",
   "execution_count": 2,
   "id": "6ca30386-50dd-4fa6-83a7-6e3f2f0ffe6b",
   "metadata": {},
   "outputs": [],
   "source": [
    "# Load the processed dataset\n",
    "df = pd.read_csv('../data/preprocessed/with_diabetes_status/dataset_with_diabetes_status.csv')"
   ]
  },
  {
   "cell_type": "code",
   "execution_count": 3,
   "id": "ff302472-30bd-49f4-89c9-931c2b1ad9ef",
   "metadata": {},
   "outputs": [],
   "source": [
    "# Drop the diabetes and hba1c columns\n",
    "df = df.drop('diabetes', axis=1)"
   ]
  },
  {
   "cell_type": "code",
   "execution_count": 4,
   "id": "5a96d18b-ff07-452b-8a9e-c72a40e1c739",
   "metadata": {},
   "outputs": [],
   "source": [
    "# Drop records where gender is 'Other'\n",
    "df = df[df['gender'] != 'Other']"
   ]
  },
  {
   "cell_type": "code",
   "execution_count": 5,
   "id": "bb83c30b-6d89-4b7d-8dbe-b9e0e39369d0",
   "metadata": {},
   "outputs": [],
   "source": [
    "# One-hot encode categorical features\n",
    "df = pd.get_dummies(df, columns=['gender', 'smoking_history'], drop_first=False)"
   ]
  },
  {
   "cell_type": "code",
   "execution_count": 6,
   "id": "ad86d7da-8faa-4f3a-aa28-d38717b5c3bc",
   "metadata": {},
   "outputs": [],
   "source": [
    "# Define the order of categories for diabetes_status\n",
    "status_order = ['non diabetic', 'stress induced prediabetic', 'stress induced type 2 diabetic', 'prediabetic', 'diabetic']\n",
    "\n",
    "# Create a mapping for the specified order\n",
    "status_mapping = {status: i for i, status in enumerate(status_order)}\n",
    "\n",
    "# Map 'diabetes_status' to the numeric encoding\n",
    "df['diabetes_status'] = df['diabetes_status'].map(status_mapping)"
   ]
  },
  {
   "cell_type": "code",
   "execution_count": 7,
   "id": "9b66ad33-138c-40c7-a490-32807a2e5cbe",
   "metadata": {},
   "outputs": [],
   "source": [
    "# Move the encoded 'diabetes_status' to the right\n",
    "cols = df.columns.tolist()\n",
    "cols.append(cols.pop(cols.index('diabetes_status')))\n",
    "df = df[cols]"
   ]
  },
  {
   "cell_type": "code",
   "execution_count": 8,
   "id": "b007d9f2-a78c-4c78-bf84-0d223c2732a9",
   "metadata": {},
   "outputs": [],
   "source": [
    "# Separate features and target\n",
    "X = df.drop(columns=['diabetes_status'])\n",
    "y = df['diabetes_status']"
   ]
  },
  {
   "cell_type": "code",
   "execution_count": 9,
   "id": "c5526ecb-9833-4296-aef9-fb8585b65d21",
   "metadata": {},
   "outputs": [],
   "source": [
    "# Initialize SMOTE\n",
    "smote = SMOTE(random_state=42)\n",
    "X_res, y_res = smote.fit_resample(X, y)"
   ]
  },
  {
   "cell_type": "code",
   "execution_count": 10,
   "id": "603a103b-1da5-4f27-a88c-169ad0b75137",
   "metadata": {},
   "outputs": [],
   "source": [
    "# Initialize KFold\n",
    "kf = KFold(n_splits=5, shuffle=True, random_state=42)"
   ]
  },
  {
   "cell_type": "code",
   "execution_count": 11,
   "id": "5377fa99-1e37-4909-88bb-1ffe7cadbef8",
   "metadata": {},
   "outputs": [],
   "source": [
    "# List of models to evaluate\n",
    "models = [\n",
    "    StackingClassifier(\n",
    "        estimators=[\n",
    "            ('knn', KNeighborsClassifier()),\n",
    "            ('rf', RandomForestClassifier())\n",
    "        ],\n",
    "        final_estimator=SVC(probability=True)\n",
    "    )\n",
    "]"
   ]
  },
  {
   "cell_type": "code",
   "execution_count": 12,
   "id": "00c4e3a1-9a0a-42ae-9a1b-b5f2b690b4f8",
   "metadata": {},
   "outputs": [],
   "source": [
    "def evaluate_models(models, X, y, kf):\n",
    "    results = {}\n",
    "    \n",
    "    for model in models:\n",
    "        model_name = type(model).__name__\n",
    "        print(f\"Evaluating {model_name}...\")\n",
    "        \n",
    "        fold_accuracies = []\n",
    "        fold_f1_scores = []\n",
    "        fold_reports = []\n",
    "        \n",
    "        for fold, (train_index, test_index) in enumerate(kf.split(X)):\n",
    "            X_train, X_test = X.iloc[train_index], X.iloc[test_index]\n",
    "            y_train, y_test = y.iloc[train_index], y.iloc[test_index]\n",
    "            \n",
    "            model.fit(X_train, y_train)\n",
    "            y_pred = model.predict(X_test)\n",
    "            \n",
    "            accuracy = accuracy_score(y_test, y_pred)\n",
    "            f1 = f1_score(y_test, y_pred, average='weighted')\n",
    "            report = classification_report(y_test, y_pred)\n",
    "            \n",
    "            fold_accuracies.append(accuracy)\n",
    "            fold_f1_scores.append(f1)\n",
    "            fold_reports.append(report)\n",
    "            \n",
    "            print(f\"Fold {fold + 1} - Accuracy: {accuracy:.4f}, F1 Score: {f1:.4f}\")\n",
    "            print(f\"Classification Report for Fold {fold + 1}:\\n{report}\\n\")\n",
    "        \n",
    "        mean_accuracy = np.mean(fold_accuracies)\n",
    "        std_accuracy = np.std(fold_accuracies)\n",
    "        mean_f1 = np.mean(fold_f1_scores)\n",
    "        std_f1 = np.std(fold_f1_scores)\n",
    "        \n",
    "        print(f\"\\n{model_name} - Mean Accuracy: {mean_accuracy:.4f} (± {std_accuracy:.4f}), Mean F1 Score: {mean_f1:.4f} (± {std_f1:.4f})\\n\")\n",
    "        \n",
    "        results[model_name] = {\n",
    "            'mean_accuracy': mean_accuracy,\n",
    "            'std_accuracy': std_accuracy,\n",
    "            'mean_f1': mean_f1,\n",
    "            'std_f1': std_f1,\n",
    "            'reports': fold_reports\n",
    "        }\n",
    "    \n",
    "    return results"
   ]
  },
  {
   "cell_type": "code",
   "execution_count": 13,
   "id": "c810a232-01b4-41cd-8237-8a9d898d054f",
   "metadata": {},
   "outputs": [
    {
     "name": "stdout",
     "output_type": "stream",
     "text": [
      "Evaluating StackingClassifier...\n",
      "Fold 1 - Accuracy: 0.9842, F1 Score: 0.9842\n",
      "Classification Report for Fold 1:\n",
      "              precision    recall  f1-score   support\n",
      "\n",
      "           0       1.00      1.00      1.00      7583\n",
      "           1       0.97      0.98      0.97      7703\n",
      "           2       0.98      0.99      0.99      7362\n",
      "           3       0.98      0.97      0.97      7626\n",
      "           4       0.99      0.98      0.99      7755\n",
      "\n",
      "    accuracy                           0.98     38029\n",
      "   macro avg       0.98      0.98      0.98     38029\n",
      "weighted avg       0.98      0.98      0.98     38029\n",
      "\n",
      "\n",
      "Fold 2 - Accuracy: 0.9845, F1 Score: 0.9845\n",
      "Classification Report for Fold 2:\n",
      "              precision    recall  f1-score   support\n",
      "\n",
      "           0       1.00      1.00      1.00      7650\n",
      "           1       0.97      0.98      0.97      7541\n",
      "           2       0.98      0.99      0.99      7678\n",
      "           3       0.98      0.97      0.97      7631\n",
      "           4       0.99      0.98      0.99      7529\n",
      "\n",
      "    accuracy                           0.98     38029\n",
      "   macro avg       0.98      0.98      0.98     38029\n",
      "weighted avg       0.98      0.98      0.98     38029\n",
      "\n",
      "\n",
      "Fold 3 - Accuracy: 0.9849, F1 Score: 0.9849\n",
      "Classification Report for Fold 3:\n",
      "              precision    recall  f1-score   support\n",
      "\n",
      "           0       1.00      1.00      1.00      7683\n",
      "           1       0.97      0.98      0.97      7585\n",
      "           2       0.99      0.99      0.99      7714\n",
      "           3       0.98      0.97      0.97      7544\n",
      "           4       0.99      0.99      0.99      7503\n",
      "\n",
      "    accuracy                           0.98     38029\n",
      "   macro avg       0.98      0.98      0.98     38029\n",
      "weighted avg       0.98      0.98      0.98     38029\n",
      "\n",
      "\n",
      "Fold 4 - Accuracy: 0.9850, F1 Score: 0.9850\n",
      "Classification Report for Fold 4:\n",
      "              precision    recall  f1-score   support\n",
      "\n",
      "           0       1.00      1.00      1.00      7479\n",
      "           1       0.97      0.98      0.97      7676\n",
      "           2       0.99      0.99      0.99      7662\n",
      "           3       0.98      0.97      0.97      7556\n",
      "           4       0.99      0.99      0.99      7656\n",
      "\n",
      "    accuracy                           0.99     38029\n",
      "   macro avg       0.99      0.99      0.99     38029\n",
      "weighted avg       0.99      0.99      0.99     38029\n",
      "\n",
      "\n",
      "Fold 5 - Accuracy: 0.9836, F1 Score: 0.9836\n",
      "Classification Report for Fold 5:\n",
      "              precision    recall  f1-score   support\n",
      "\n",
      "           0       1.00      1.00      1.00      7634\n",
      "           1       0.97      0.98      0.97      7524\n",
      "           2       0.98      0.99      0.99      7613\n",
      "           3       0.98      0.97      0.97      7672\n",
      "           4       0.99      0.98      0.99      7586\n",
      "\n",
      "    accuracy                           0.98     38029\n",
      "   macro avg       0.98      0.98      0.98     38029\n",
      "weighted avg       0.98      0.98      0.98     38029\n",
      "\n",
      "\n",
      "\n",
      "StackingClassifier - Mean Accuracy: 0.9844 (± 0.0005), Mean F1 Score: 0.9844 (± 0.0005)\n",
      "\n"
     ]
    }
   ],
   "source": [
    "# Call the function with the updated list of models, features, target, and KFold object\n",
    "results = evaluate_models(models, X_res, y_res, kf)"
   ]
  },
  {
   "cell_type": "code",
   "execution_count": 14,
   "id": "d7e15d11-895a-4e6d-a9b2-6f4d5d6e9f01",
   "metadata": {},
   "outputs": [],
   "source": [
    "# Save trained model\n",
    "#import joblib\n",
    "\n",
    "#stacking_clf = models[1]\n",
    "#joblib.dump(stacking_clf, 'stacking_classifier.pkl')"
   ]
  },
  {
   "cell_type": "code",
   "execution_count": 15,
   "id": "da2ed588-51ae-4ef2-bcb0-d90cd20c7168",
   "metadata": {},
   "outputs": [
    {
     "name": "stdout",
     "output_type": "stream",
     "text": [
      "1.5.1\n"
     ]
    }
   ],
   "source": [
    "import sklearn\n",
    "print(sklearn.__version__)"
   ]
  },
  {
   "cell_type": "code",
   "execution_count": null,
   "id": "85195da3-2322-48de-ba88-228f6379b6c8",
   "metadata": {},
   "outputs": [],
   "source": [
    "# Hyperparameter Tuning using GridSearchCV\n",
    "\n",
    "from sklearn.model_selection import GridSearchCV\n",
    "\n",
    "# Define a parameter grid for the base models and final estimator\n",
    "param_grid = {\n",
    "    'knn__n_neighbors': [3, 5, 7],\n",
    "    'rf__n_estimators': [100, 200],\n",
    "    'rf__max_depth': [None, 10, 20],\n",
    "    'final_estimator__C': [0.1, 1, 10],\n",
    "    'final_estimator__gamma': ['scale', 'auto']\n",
    "}\n",
    "\n",
    "# Set up GridSearchCV using the same KFold splits defined earlier (kf)\n",
    "grid = GridSearchCV(\n",
    "    estimator=models[0],\n",
    "    param_grid=param_grid,\n",
    "    cv=kf,\n",
    "    scoring='accuracy',\n",
    "    n_jobs=-1,\n",
    "    verbose=2  # Show progress\n",
    ")\n",
    "\n",
    "print(\"Starting Grid Search...\")\n",
    "\n",
    "# Fit GridSearchCV on the SMOTE-resampled data\n",
    "grid.fit(X_res, y_res)\n",
    "\n",
    "print(\"\\nGrid Search Complete!\")\n",
    "print(f\"Best parameters found: {grid.best_params_}\")\n",
    "print(f\"Best cross-validation accuracy: {grid.best_score_:.4f}\")\n",
    "\n",
    "# Retrieve the tuned model\n",
    "tuned_model = grid.best_estimator_\n",
    "\n",
    "print(\"\\nEvaluating tuned model...\")\n",
    "# Evaluate the tuned model using your evaluate_models function\n",
    "tuned_results = evaluate_models([tuned_model], X_res, y_res, kf)\n",
    "\n",
    "print(\"Tuned model evaluation complete!\")"
   ]
  },
  {
   "cell_type": "code",
   "execution_count": null,
   "id": "c7f16f9f-ebaa-45fa-bd82-3f81f63428b5",
   "metadata": {},
   "outputs": [],
   "source": [
    "# New Cell: Save the tuned model\n",
    "#import joblib\n",
    "#joblib.dump(tuned_model, 'tuned_stacking_classifier.pkl')"
   ]
  }
 ],
 "metadata": {
  "kernelspec": {
   "display_name": "Python [conda env:base] *",
   "language": "python",
   "name": "conda-base-py"
  },
  "language_info": {
   "codemirror_mode": {
    "name": "ipython",
    "version": 3
   },
   "file_extension": ".py",
   "mimetype": "text/x-python",
   "name": "python",
   "nbconvert_exporter": "python",
   "pygments_lexer": "ipython3",
   "version": "3.12.7"
  }
 },
 "nbformat": 4,
 "nbformat_minor": 5
}
